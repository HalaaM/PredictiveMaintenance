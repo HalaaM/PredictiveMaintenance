{
 "cells": [
  {
   "cell_type": "markdown",
   "id": "92f9d160",
   "metadata": {},
   "source": [
    "# Step 2: Model Building & Evaluation\n",
    "Using the training and test data sets we constructed in the `Code/1_data_ingestion_and_preparation.ipynb` Jupyter notebook, this notebook builds an XGBoost for similar scenerio described at [Predictive Maintenance Template](https://gallery.cortanaintelligence.com/Collection/Predictive-Maintenance-Template-3) to predict failure in aircraft engines. We will store the model for deployment in an Azure web service which we build in the bottom section of this notebook.\n",
    "\n",
    "\n",
    "Dataset derived from:\n",
    "https://data.nasa.gov/Aerospace/CMAPSS-Jet-Engine-Simulated-Data/ff5v-kuh6/data\n"
   ]
  },
  {
   "cell_type": "code",
   "execution_count": null,
   "id": "b8d8ef67",
   "metadata": {},
   "outputs": [],
   "source": [
    "\n",
    "# Ensure you have the dependencies for this notebook\n",
    "#%pip install -r xgboost_classification_mlflow.txt"
   ]
  },
  {
   "cell_type": "code",
   "execution_count": null,
   "id": "a137a921",
   "metadata": {},
   "outputs": [],
   "source": [
    "import time\n",
    "import matplotlib.pyplot as plt\n",
    "import numpy as np\n",
    "import pandas as pd\n",
    "from sklearn.model_selection import train_test_split\n",
    "from sklearn import linear_model\n",
    "from sklearn.metrics import confusion_matrix, recall_score, precision_score, accuracy_score\n",
    "from sklearn.model_selection import RandomizedSearchCV\n",
    "from sklearn.metrics import ConfusionMatrixDisplay\n",
    "import xgboost as xgb\n",
    "import itertools\n",
    "import random\n",
    "import string\n",
    "import json\n",
    "import sklearn\n",
    "\n",
    "from azureml.core import Model\n",
    "from azureml.core.resource_configuration import ResourceConfiguration\n",
    "\n",
    "import pickle\n",
    "\n",
    "import mlflow\n",
    "import mlflow.keras\n",
    "from mlflow.deployments import get_deploy_client\n",
    "\n",
    "import math \n",
    "import warnings\n"
   ]
  },
  {
   "cell_type": "code",
   "execution_count": null,
   "id": "93736a3d",
   "metadata": {},
   "outputs": [],
   "source": [
    "\n",
    "warnings.simplefilter(\"ignore\")"
   ]
  },
  {
   "cell_type": "code",
   "execution_count": null,
   "id": "67ba38ab",
   "metadata": {},
   "outputs": [],
   "source": [
    "\n",
    "# These file names detail the data files. \n",
    "TRAIN_DATA = 'PM_train_files.pkl'\n",
    "TEST_DATA = 'PM_test_files.pkl'\n",
    "\n",
    "# We'll serialize the model in json format\n",
    "LSTM_MODEL = 'modellstm.json'\n",
    "\n",
    "# and store the weights in h5\n",
    "MODEL_WEIGHTS = 'modellstm.h5'"
   ]
  },
  {
   "cell_type": "code",
   "execution_count": null,
   "id": "bc037197",
   "metadata": {},
   "outputs": [],
   "source": [
    "train_df = pd.read_pickle(TRAIN_DATA)\n",
    "train_df.head(10)"
   ]
  },
  {
   "cell_type": "code",
   "execution_count": null,
   "id": "3d2a56dc",
   "metadata": {},
   "outputs": [],
   "source": [
    "test_df = pd.read_pickle(TEST_DATA)\n",
    "\n",
    "test_df.head(10)"
   ]
  },
  {
   "cell_type": "code",
   "execution_count": null,
   "id": "4202c732",
   "metadata": {},
   "outputs": [],
   "source": [
    "y_train = train_df[[\"label1\"]]\n",
    "X_train = train_df.drop([\"RUL\",\"label1\",\"label2\",\"id\"],axis=1)\n",
    "#y_train.head()\n",
    "X_train.head()"
   ]
  },
  {
   "cell_type": "code",
   "execution_count": null,
   "id": "adfdc8cf",
   "metadata": {},
   "outputs": [],
   "source": [
    "y_test = test_df[[\"label1\"]]\n",
    "X_test = test_df.drop([\"RUL\",\"label1\",\"label2\",\"id\"],axis=1)\n",
    "#y_test.head()\n",
    "X_test.head()"
   ]
  },
  {
   "cell_type": "code",
   "execution_count": null,
   "id": "02dd3cee",
   "metadata": {
    "scrolled": true
   },
   "outputs": [],
   "source": [
    "%%time\n",
    "regressor=xgb.XGBClassifier(eval_metric='logloss')\n",
    "\n",
    "#=========================================================================\n",
    "# exhaustively search for the optimal hyperparameters\n",
    "#=========================================================================\n",
    "from sklearn.model_selection import GridSearchCV\n",
    "\n",
    "# set up our search grid\n",
    "param_grid = {\"max_depth\":    [4, 6, 8, 10, 12, 14],\n",
    "              \"n_estimators\": [400, 600, 800, 1000, 1200, 1400],\n",
    "              \"learning_rate\": [0.0075, 0.015]}\n",
    "\n",
    "# try out a random combination of the above values\n",
    "search = RandomizedSearchCV(regressor, param_grid, cv=5).fit(X_train, y_train)\n",
    "\n",
    "print(\"The best hyperparameters are \",search.best_params_)"
   ]
  },
  {
   "cell_type": "code",
   "execution_count": null,
   "id": "68863ef9",
   "metadata": {},
   "outputs": [],
   "source": [
    "experiment_name=\"XGBoost-PD-Classification\"\n",
    "mlflow.set_experiment(experiment_name=experiment_name)"
   ]
  },
  {
   "cell_type": "code",
   "execution_count": null,
   "id": "ca7ec5c6",
   "metadata": {},
   "outputs": [],
   "source": [
    "mlflow.xgboost.autolog()\n",
    "run = mlflow.start_run()"
   ]
  },
  {
   "cell_type": "code",
   "execution_count": null,
   "id": "4a426c07",
   "metadata": {},
   "outputs": [],
   "source": [
    "regressor=xgb.XGBClassifier(learning_rate = search.best_params_[\"learning_rate\"],\n",
    "                           n_estimators  = search.best_params_[\"n_estimators\"],\n",
    "                           max_depth     = search.best_params_[\"max_depth\"],\n",
    "                           eval_metric='logloss')\n",
    "\n",
    "regressor.fit(X_train, y_train)"
   ]
  },
  {
   "cell_type": "code",
   "execution_count": null,
   "id": "8d105654",
   "metadata": {},
   "outputs": [],
   "source": [
    "train_predictions = regressor.predict(X_train)"
   ]
  },
  {
   "cell_type": "code",
   "execution_count": null,
   "id": "d20800be",
   "metadata": {},
   "outputs": [],
   "source": [
    "cm = confusion_matrix(y_train, train_predictions)\n",
    "display(cm)\n",
    "cm_display = ConfusionMatrixDisplay(cm,display_labels=regressor.classes_).plot(cmap=\"Blues\", values_format='')"
   ]
  },
  {
   "cell_type": "code",
   "execution_count": null,
   "id": "8e29dc80",
   "metadata": {},
   "outputs": [],
   "source": [
    "# compute precision and recall\n",
    "precision = precision_score(y_train, train_predictions)\n",
    "recall = recall_score(y_train, train_predictions)\n",
    "accuracy = accuracy_score(y_train, train_predictions)\n",
    "f1 = 2 * (precision * recall) / (precision + recall)\n",
    "print( 'Train Precision: ', precision, '\\n', 'Train Recall: ', recall, '\\n', 'Train F1 Score:', f1,'\\n', 'Train Accuracy Score:', f1)\n"
   ]
  },
  {
   "cell_type": "code",
   "execution_count": null,
   "id": "766fb6cd",
   "metadata": {},
   "outputs": [],
   "source": [
    "test_predictions = regressor.predict(X_test)"
   ]
  },
  {
   "cell_type": "code",
   "execution_count": null,
   "id": "cd9f4abe",
   "metadata": {},
   "outputs": [],
   "source": [
    "cm = confusion_matrix(y_test, test_predictions)\n",
    "display(cm)\n",
    "cm_display = ConfusionMatrixDisplay(cm,display_labels=regressor.classes_).plot(cmap=\"Blues\", values_format='')"
   ]
  },
  {
   "cell_type": "code",
   "execution_count": null,
   "id": "b6eba032",
   "metadata": {},
   "outputs": [],
   "source": [
    "# compute precision and recall\n",
    "precision = precision_score(y_test, test_predictions)\n",
    "recall = recall_score(y_test, test_predictions)\n",
    "accuracy = accuracy_score(y_test, test_predictions)\n",
    "f1 = 2 * (precision * recall) / (precision + recall)\n",
    "print( 'Test Precision: ', precision, '\\n', 'Test Recall: ', recall, '\\n', 'Test F1 Score:', f1,'\\n', 'Test Accuracy Score:', accuracy)\n"
   ]
  },
  {
   "cell_type": "code",
   "execution_count": null,
   "id": "fe6e0804",
   "metadata": {},
   "outputs": [],
   "source": [
    "from xgboost import plot_importance\n",
    "import matplotlib.pyplot as plt\n",
    "plt.style.use('fivethirtyeight')\n",
    "plt.rcParams.update({'font.size': 16})\n",
    "\n",
    "fig, ax = plt.subplots(figsize=(12,6))\n",
    "plot_importance(regressor, max_num_features=8, ax=ax)\n",
    "plt.show();"
   ]
  },
  {
   "cell_type": "code",
   "execution_count": null,
   "id": "0073a043",
   "metadata": {},
   "outputs": [],
   "source": [
    "mlflow.end_run()"
   ]
  },
  {
   "cell_type": "code",
   "execution_count": null,
   "id": "d2877081",
   "metadata": {},
   "outputs": [],
   "source": [
    "run = mlflow.get_run(run.info.run_id)\n",
    "pd.DataFrame(data=[run.data.params], index=[\"Value\"]).T"
   ]
  },
  {
   "cell_type": "code",
   "execution_count": null,
   "id": "06c4619c",
   "metadata": {},
   "outputs": [],
   "source": [
    "client = mlflow.tracking.MlflowClient()\n",
    "client.list_artifacts(run_id=run.info.run_id)"
   ]
  },
  {
   "cell_type": "markdown",
   "id": "57e24539",
   "metadata": {},
   "source": [
    "# Step 3: Register and Deploy\n",
    "\n",
    "#### Creating models from an existing run\n",
    "If you have an Mlflow model logged inside of a run and you want to register it in a registry, you can do that by using the experiment and run ID information from the run. Let's create a simple experiment and run to demonstrate it:"
   ]
  },
  {
   "cell_type": "code",
   "execution_count": null,
   "id": "b5f4b0cc",
   "metadata": {},
   "outputs": [],
   "source": [
    "exp = mlflow.get_experiment_by_name(experiment_name)\n",
    "last_run = mlflow.search_runs(exp.experiment_id, output_format=\"list\")[-1]\n",
    "print(last_run.info.run_id)"
   ]
  },
  {
   "cell_type": "markdown",
   "id": "58b19991",
   "metadata": {},
   "source": [
    "You can now register the model from the local path:"
   ]
  },
  {
   "cell_type": "code",
   "execution_count": null,
   "id": "550933f5",
   "metadata": {},
   "outputs": [],
   "source": [
    "model_name = \"xgb_PD_Classifier\"\n",
    "artifact_path = \"model\"\n",
    "\n",
    "mlflow.register_model(f\"runs:/{last_run.info.run_id}/{artifact_path}\", model_name)"
   ]
  },
  {
   "cell_type": "markdown",
   "id": "29d8d641",
   "metadata": {},
   "source": [
    "Online Endpoints have the concept of **Endpoint** and **Deployment**. An endpoint represents the API that customers uses to consume the model, while a deployment indicates the specific implementation of that API. This distinction allows users to decouple the API from the implementation and to change the underlying implementation without affecting the consumer."
   ]
  },
  {
   "cell_type": "code",
   "execution_count": null,
   "id": "e19198ac",
   "metadata": {},
   "outputs": [],
   "source": [
    "# Creating a unique endpoint name by including a random suffix\n",
    "allowed_chars = string.ascii_lowercase + string.digits\n",
    "endpoint_suffix = \"\".join(random.choice(allowed_chars) for x in range(5))\n",
    "endpoint_name = \"PD-XGB-Classifier-\" + endpoint_suffix\n",
    "\n",
    "print(f\"Endpoint name: {endpoint_name}\")"
   ]
  },
  {
   "cell_type": "markdown",
   "id": "acd54cc6",
   "metadata": {},
   "source": [
    "First, let's create an MLflow deployment client for Azure Machine Learning:"
   ]
  },
  {
   "cell_type": "code",
   "execution_count": null,
   "id": "d3aaa39a",
   "metadata": {},
   "outputs": [],
   "source": [
    "deployment_client = get_deploy_client(mlflow.get_tracking_uri())"
   ]
  },
  {
   "cell_type": "markdown",
   "id": "064df9e6",
   "metadata": {},
   "source": [
    "Let's create the endpoint with basic configuration:"
   ]
  },
  {
   "cell_type": "code",
   "execution_count": null,
   "id": "b2842856",
   "metadata": {},
   "outputs": [],
   "source": [
    "endpoint = deployment_client.create_endpoint(endpoint_name)"
   ]
  },
  {
   "cell_type": "markdown",
   "id": "e988e96b",
   "metadata": {},
   "source": [
    "We can get the scoring URI from the endpoint:"
   ]
  },
  {
   "cell_type": "code",
   "execution_count": null,
   "id": "71f14816",
   "metadata": {},
   "outputs": [],
   "source": [
    "scoring_uri = deployment_client.get_endpoint(endpoint=endpoint_name)[\"properties\"][\n",
    "    \"scoringUri\"\n",
    "]\n",
    "print(scoring_uri)"
   ]
  },
  {
   "cell_type": "markdown",
   "id": "7d928cee",
   "metadata": {},
   "source": [
    "To configure the hardware requirements of your deployment, you need to create a JSON file with the desired configuration:"
   ]
  },
  {
   "cell_type": "code",
   "execution_count": null,
   "id": "b475d4b7",
   "metadata": {},
   "outputs": [],
   "source": [
    "deployment_name = \"default\""
   ]
  },
  {
   "cell_type": "code",
   "execution_count": null,
   "id": "d7648196",
   "metadata": {},
   "outputs": [],
   "source": [
    "deploy_config = {\n",
    "    \"instance_type\": \"Standard_DS3_v2\",\n",
    "    \"instance_count\": 1,\n",
    "}"
   ]
  },
  {
   "cell_type": "markdown",
   "id": "fc34ca63",
   "metadata": {},
   "source": [
    "Write the configuration to a file:"
   ]
  },
  {
   "cell_type": "code",
   "execution_count": null,
   "id": "6407c7ff",
   "metadata": {},
   "outputs": [],
   "source": [
    "\n",
    "deployment_config_path = \"deployment_config.json\"\n",
    "with open(deployment_config_path, \"w\") as outfile:\n",
    "    outfile.write(json.dumps(deploy_config))"
   ]
  },
  {
   "cell_type": "markdown",
   "id": "816ae41a",
   "metadata": {},
   "source": [
    "The method **create_deployment** allows you to create a simple deployment using the configuration indicated in the configuration file. We are going to name this deployment \"default\".  This step may take 10-20 minutes, you can monitor it in the Azure ML Portal as well under Endpoints\n"
   ]
  },
  {
   "cell_type": "code",
   "execution_count": null,
   "id": "5377f152",
   "metadata": {},
   "outputs": [],
   "source": [
    "version = 1\n",
    "\n",
    "deployment = deployment_client.create_deployment(\n",
    "    name=deployment_name,\n",
    "    endpoint=endpoint_name,\n",
    "    model_uri=f\"models:/{model_name}/{version}\",\n",
    "    config={\"deploy-config-file\": deployment_config_path},\n",
    ")"
   ]
  },
  {
   "cell_type": "markdown",
   "id": "c7b57156",
   "metadata": {},
   "source": [
    "By default, new deployments receive none of the traffic from the endpoint. Let's assign all of it to the deployment:"
   ]
  },
  {
   "cell_type": "code",
   "execution_count": null,
   "id": "cba4e7b3",
   "metadata": {},
   "outputs": [],
   "source": [
    "traffic_config = {\"traffic\": {deployment_name: 100}}\n"
   ]
  },
  {
   "cell_type": "markdown",
   "id": "6f7c81bc",
   "metadata": {},
   "source": [
    "Let's write the configuration to a file:"
   ]
  },
  {
   "cell_type": "code",
   "execution_count": null,
   "id": "7eb3384a",
   "metadata": {},
   "outputs": [],
   "source": [
    "traffic_config_path = \"traffic_config.json\"\n",
    "with open(traffic_config_path, \"w\") as outfile:\n",
    "    outfile.write(json.dumps(traffic_config))\n",
    "    "
   ]
  },
  {
   "cell_type": "markdown",
   "id": "3033dc3f",
   "metadata": {},
   "source": [
    "We are going to use the key endpoint-config-file to update the configuration:"
   ]
  },
  {
   "cell_type": "code",
   "execution_count": null,
   "id": "89de1516",
   "metadata": {},
   "outputs": [],
   "source": [
    "deployment_client.update_endpoint(\n",
    "    endpoint=endpoint_name,\n",
    "    config={\"endpoint-config-file\": traffic_config_path},\n",
    ")"
   ]
  },
  {
   "cell_type": "code",
   "execution_count": null,
   "id": "d582c488",
   "metadata": {},
   "outputs": [],
   "source": [
    "#deployment_client.delete_deployment(endpoint_name)"
   ]
  }
 ],
 "metadata": {
  "kernelspec": {
   "display_name": "Python 3.8 - Pytorch and Tensorflow",
   "language": "python",
   "name": "python38-azureml-pt-tf"
  },
  "language_info": {
   "codemirror_mode": {
    "name": "ipython",
    "version": 3
   },
   "file_extension": ".py",
   "mimetype": "text/x-python",
   "name": "python",
   "nbconvert_exporter": "python",
   "pygments_lexer": "ipython3",
   "version": "3.8.5"
  }
 },
 "nbformat": 4,
 "nbformat_minor": 5
}
